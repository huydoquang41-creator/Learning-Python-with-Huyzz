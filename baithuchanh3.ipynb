{
 "cells": [
  {
   "cell_type": "code",
   "execution_count": 7,
   "id": "e034641d-0f95-4821-a273-2f7b76a56f68",
   "metadata": {},
   "outputs": [
    {
     "name": "stdin",
     "output_type": "stream",
     "text": [
      "Nhap vao năm hiện tai: 2025\n"
     ]
    },
    {
     "name": "stdout",
     "output_type": "stream",
     "text": [
      "Huy năm nay có số tuổi là: 20\n"
     ]
    }
   ],
   "source": [
    "#Bài 14\n",
    "\n",
    "# 1)greeting()\n",
    "\n",
    "def greeting (hvt,namsinh):\n",
    "    namht = int(input(\"Nhap vao năm hiện tai:\"))\n",
    "    tuoi = namht - namsinh\n",
    "    print(hvt.capitalize(),\"năm nay có số tuổi là:\",tuoi)\n",
    "\n",
    "greeting(\"huy\",2005)\n",
    "    "
   ]
  },
  {
   "cell_type": "code",
   "execution_count": 11,
   "id": "5ff2313c-f723-43dd-87b9-a4821298f6f0",
   "metadata": {},
   "outputs": [
    {
     "name": "stdout",
     "output_type": "stream",
     "text": [
      "Số thỏ trong rừng sau 3 tháng là :  16\n"
     ]
    }
   ],
   "source": [
    "# 2)rabbit_count()\n",
    "\n",
    "def rabbit_count(thang):\n",
    "    # thang = int(input('Nhập vào số tháng : '))\n",
    "    print('Số thỏ trong rừng sau',thang,'tháng là : ',2*(2**thang))\n",
    "\n",
    "rabbit_count(3)"
   ]
  },
  {
   "cell_type": "code",
   "execution_count": 15,
   "id": "07d99c4b-f2b6-416f-91cb-2028289bc6f0",
   "metadata": {},
   "outputs": [
    {
     "name": "stdout",
     "output_type": "stream",
     "text": [
      "Tổng số sinh viên trong lớp là: 15\n",
      "Tổng số sinh viên học lại là: 3\n"
     ]
    }
   ],
   "source": [
    "# 3) count_mark()\n",
    "\n",
    "def count_mark(diemthi):\n",
    "    tong = len(diemthi)\n",
    "    hoclai = diemthi.count(\"F\")\n",
    "    return tong , hoclai\n",
    "\n",
    "diemthi=['C','B','D','A','F','A','B','F','B','B','C','A','D','F','B']\n",
    "tong , hoclai = count_mark(diemthi)\n",
    "\n",
    "print(\"Tổng số sinh viên trong lớp là:\",tong)\n",
    "print(\"Tổng số sinh viên học lại là:\",hoclai)"
   ]
  },
  {
   "cell_type": "code",
   "execution_count": 18,
   "id": "b420a737-0b6d-4983-be98-338c999799c5",
   "metadata": {},
   "outputs": [
    {
     "name": "stdout",
     "output_type": "stream",
     "text": [
      "Cân nặng bình thường\n"
     ]
    }
   ],
   "source": [
    "# 4) bmi_show\n",
    "\n",
    "def bmi_show(chieuCao,canNang):\n",
    "    bmi=canNang/(chieuCao**2)\n",
    "    if bmi>30 :\n",
    "        print(\"Bị béo phì\")\n",
    "    elif 25<=bmi<=29.9 :\n",
    "        print('Bị thừa cân')\n",
    "    elif 18.5<=bmi<=24.9:\n",
    "        print('Cân nặng bình thường')\n",
    "    else:\n",
    "        print('Bị còi xương')\n",
    "\n",
    "bmi_show(1.75 , 74)"
   ]
  },
  {
   "cell_type": "code",
   "execution_count": 23,
   "id": "7b341fb0-8ba0-4550-baec-c761d12a7864",
   "metadata": {},
   "outputs": [
    {
     "name": "stdout",
     "output_type": "stream",
     "text": [
      "Điểm hệ 10 là: [8.4, 6.5, 7.3, 2.6, 9.0, 5.8, 6.0, 9.7, 8.1]\n",
      "Điểm chữ hệ 4 là: ['B+', 'C+', 'B', 'F', 'A+', 'C', 'C', 'A+', 'B+']\n",
      "Điểm hệ 4 là: [3.5, 2.5, 3.0, 0, 4.0, 2.0, 2.0, 4.0, 3.5]\n",
      "Tổng số môn học sinh viên đăng kí là: 9\n",
      "Điểm trung bình hệ 10 là: 7.04\n",
      "Điểm trung bình hệ 10 là: 2.72\n"
     ]
    }
   ],
   "source": [
    "# 5) cal_point\n",
    "\n",
    "def cal_point(diem_so):\n",
    "    #Tạo danh sách điểm chữ và điểm hệ 4\n",
    "    diem_chu=[]\n",
    "    diem_4=[]\n",
    "\n",
    "    for diem in diem_so:\n",
    "        if diem >=9.0:\n",
    "            diem_chu.append('A+')\n",
    "            diem_4.append(4.0)\n",
    "        elif 8.5<=diem<9:\n",
    "            diem_chu.append('A')\n",
    "            diem_4.append(3.7)\n",
    "        elif 8.0<=diem<8.5:\n",
    "            diem_chu.append('B+')\n",
    "            diem_4.append(3.5)\n",
    "        elif 7.0<=diem<8.0:\n",
    "            diem_chu.append('B')\n",
    "            diem_4.append(3.0)\n",
    "        elif 6.5<=diem<7.0:\n",
    "            diem_chu.append('C+')\n",
    "            diem_4.append(2.5)\n",
    "        elif 5.5<=diem<6.5:\n",
    "            diem_chu.append('C')\n",
    "            diem_4.append(2.0)\n",
    "        elif 5.0<=diem<5.5:\n",
    "            diem_chu.append('D+')\n",
    "            diem_4.append(1.5)\n",
    "        elif 4.0<=diem<5.0:\n",
    "            diem_chu.append('D')\n",
    "            diem_4.append(1.0)\n",
    "        else:\n",
    "            diem_chu.append('F')\n",
    "            diem_4.append(0)\n",
    "\n",
    "        #Tính trung bình điểm\n",
    "    tb_4 = sum(diem_4) / len(diem_4)\n",
    "    tb_10 = sum(diem_so) / len(diem_so)\n",
    "\n",
    "    print(\"Điểm hệ 10 là:\",diem_so)\n",
    "    print(\"Điểm chữ hệ 4 là:\",diem_chu)\n",
    "    print(\"Điểm hệ 4 là:\",diem_4)\n",
    "    print(\"Tổng số môn học sinh viên đăng kí là:\",len(diem_so))\n",
    "    print(\"Điểm trung bình hệ 10 là:\",round(tb_10,2))\n",
    "    print(\"Điểm trung bình hệ 10 là:\",round(tb_4,2))\n",
    "\n",
    "cal_point([8.4,6.5,7.3,2.6,9.0,5.8,6.0,9.7,8.1])"
   ]
  },
  {
   "cell_type": "code",
   "execution_count": 29,
   "id": "15ecb17b-4ce0-437c-81a1-e4bd151a38e7",
   "metadata": {},
   "outputs": [
    {
     "name": "stdout",
     "output_type": "stream",
     "text": [
      "[1, 2, 3, 5, 7, 11, 13, 17, 19, 23, 29, 31, 37, 41, 43, 47, 53, 59, 61, 67, 71, 73, 79, 83, 89, 97, 101, 103, 107, 109, 113, 127, 131, 137, 139, 149, 151, 157, 163, 167, 173, 179, 181, 191, 193, 197, 199, 211, 223, 227, 229, 233, 239, 241, 251, 257, 263, 269, 271, 277, 281, 283, 293, 307, 311, 313, 317, 331, 337, 347, 349, 353, 359, 367, 373, 379, 383, 389, 397, 401, 409, 419, 421, 431, 433, 439, 443, 449, 457, 461, 463, 467, 479, 487, 491, 499, 503, 509, 521, 523, 541, 547, 557, 563, 569, 571, 577, 587, 593, 599, 601, 607, 613, 617, 619, 631, 641, 643, 647, 653, 659, 661, 673, 677, 683, 691, 701, 709, 719, 727, 733, 739, 743, 751, 757, 761, 769, 773, 787, 797, 809, 811, 821, 823, 827, 829, 839, 853, 857, 859, 863, 877, 881, 883, 887, 907, 911, 919, 929, 937, 941, 947, 953, 967, 971, 977, 983, 991, 997, 1009, 1013, 1019, 1021, 1031, 1033, 1039, 1049, 1051, 1061, 1063, 1069, 1087, 1091, 1093, 1097, 1103, 1109, 1117, 1123, 1129, 1151, 1153, 1163, 1171, 1181, 1187, 1193, 1201, 1213, 1217]\n",
      "Có 200 số nguyên tố từ 1 đến 1221\n"
     ]
    }
   ],
   "source": [
    "# 6) list_prime()\n",
    "\n",
    "def list_prime(n):\n",
    "    a=[]\n",
    "    for i in range(1,n+1):\n",
    "        kt=True\n",
    "        for j in range(2,int(i/2)+1):\n",
    "            if i%j==0:\n",
    "                kt=False\n",
    "                break\n",
    "        if kt==True:\n",
    "            a.append(i)\n",
    "    print(a)\n",
    "    print(\"Có\",len(a),\"số nguyên tố từ 1 đến\",n)\n",
    "list_prime(1221)"
   ]
  },
  {
   "cell_type": "code",
   "execution_count": 51,
   "id": "de2bbe99-bd09-4b64-a5f5-f34579b366da",
   "metadata": {},
   "outputs": [
    {
     "name": "stdin",
     "output_type": "stream",
     "text": [
      "Nhập vào họ và tên của bạn: đỗ quang huy\n",
      "Nhập vào năm sinh của bạn: 2005\n",
      "Nhập vào chiều cao của bạn: 1.75\n",
      "Nhập vào cân nặng của bạn 70\n"
     ]
    },
    {
     "name": "stdout",
     "output_type": "stream",
     "text": [
      "My name is  Đỗ Quang Huy\n",
      "I am  20  years old. Nice too meet you!\n",
      "Chỉ số BMI :  22.86\n"
     ]
    }
   ],
   "source": [
    "# Bài 15\n",
    "\n",
    "# Ý bài1\n",
    "\n",
    "hvt = input(\"Nhập vào họ và tên của bạn:\")\n",
    "nsinh = int(input(\"Nhập vào năm sinh của bạn:\"))\n",
    "chieuCao = float(input(\"Nhập vào chiều cao của bạn:\"))\n",
    "canNang = float(input(\"Nhập vào cân nặng của bạn\"))\n",
    "#Tạo 1 lớp person\n",
    "class person :\n",
    "    def __init__(self,hvt,nsinh,chieuCao,canNang):\n",
    "        self.hvt = hvt \n",
    "        self.nsinh = nsinh \n",
    "        self.chieuCao = chieuCao \n",
    "        self.canNang = canNang \n",
    "\n",
    "    def geeting(self):\n",
    "        print(\"My name is \",self.hvt.title())\n",
    "        print(\"I am \",2025-self.nsinh,\" years old. Nice too meet you!\")\n",
    "\n",
    "    def bmi (self):\n",
    "        bmi=self.canNang/(self.chieuCao**2)\n",
    "        return round(bmi,2)\n",
    "        \n",
    "\n",
    "#Tạo đối tượng p1\n",
    "p1 = person(hvt,nsinh,chieuCao,canNang)\n",
    "\n",
    "#Gọi hàm geeting()\n",
    "p1.geeting()\n",
    "\n",
    "#Gọi hàm bmi()\n",
    "print(\"Chỉ số BMI : \",p1.bmi())"
   ]
  },
  {
   "cell_type": "code",
   "execution_count": 61,
   "id": "fe8df2d7-b9fa-4210-a2da-0e580b6d2f40",
   "metadata": {},
   "outputs": [
    {
     "name": "stdin",
     "output_type": "stream",
     "text": [
      "Nhập vào họ và tên của bạn: đỗ quang huy\n",
      "Nhập vào năm sinh của bạn: 2005\n",
      "Nhập vào chiều cao của bạn: 1.75\n",
      "Nhập vào cân nặng của bạn 70\n",
      "Nhập vào dân tộc của bạn: kinh\n"
     ]
    },
    {
     "name": "stdout",
     "output_type": "stream",
     "text": [
      "Tôi tên là : Đỗ Quang Huy - Dân tộc  Kinh\n",
      "Tôi sinh năm : 2005 . Rất vui được làm quen với bạn!\n",
      "--------------------------------------------------------------------\n",
      "Chỉ số BMI 22.86\n"
     ]
    }
   ],
   "source": [
    "# Ý bài 2\n",
    "hvt = input(\"Nhập vào họ và tên của bạn:\")\n",
    "nsinh = int(input(\"Nhập vào năm sinh của bạn:\"))\n",
    "chieuCao = float(input(\"Nhập vào chiều cao của bạn:\"))\n",
    "canNang = float(input(\"Nhập vào cân nặng của bạn\"))\n",
    "dtoc = input(\"Nhập vào dân tộc của bạn:\")\n",
    "class VietNam (person):\n",
    "    def __init__(self,hvt,nsinh,chieuCao,canNang):\n",
    "        self.hvt = hvt \n",
    "        self.nsinh = nsinh \n",
    "        self.chieuCao = chieuCao \n",
    "        self.canNang = canNang \n",
    "        self.dtoc = dtoc\n",
    "        \n",
    "    def geeting(self):\n",
    "        print(\"Tôi tên là :\",self.hvt.title(),\"- Dân tộc \",self.dtoc.title())\n",
    "        print(\"Tôi sinh năm :\",nsinh,\". Rất vui được làm quen với bạn!\")\n",
    "\n",
    "    def bmi(self):\n",
    "        # super().bmi()\n",
    "        return round(super().bmi(),2)\n",
    "\n",
    "#Tạo 1 đối tượng vn1 thuộc lớp VietNam\n",
    "vn1 = VietNam(hvt,nsinh,chieuCao,canNang)\n",
    "\n",
    "#Gọi hàm geeting()\n",
    "vn1.geeting()\n",
    "\n",
    "#gọi hàm bmi()\n",
    "print(\"--------------------------------------------------------------------\")\n",
    "print('Chỉ số BMI' , vn1.bmi())"
   ]
  },
  {
   "cell_type": "code",
   "execution_count": null,
   "id": "49857d27-6111-44b4-a73d-12ce0b957ffa",
   "metadata": {},
   "outputs": [],
   "source": []
  }
 ],
 "metadata": {
  "kernelspec": {
   "display_name": "Python [conda env:base] *",
   "language": "python",
   "name": "conda-base-py"
  },
  "language_info": {
   "codemirror_mode": {
    "name": "ipython",
    "version": 3
   },
   "file_extension": ".py",
   "mimetype": "text/x-python",
   "name": "python",
   "nbconvert_exporter": "python",
   "pygments_lexer": "ipython3",
   "version": "3.13.5"
  }
 },
 "nbformat": 4,
 "nbformat_minor": 5
}
