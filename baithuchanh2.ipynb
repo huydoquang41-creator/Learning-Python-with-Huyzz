{
 "cells": [
  {
   "cell_type": "code",
   "execution_count": 7,
   "id": "34bfc825-7d5b-4078-9b19-52d123ae9dff",
   "metadata": {},
   "outputs": [
    {
     "name": "stdin",
     "output_type": "stream",
     "text": [
      "Nhập vào chữ cái : y\n"
     ]
    },
    {
     "name": "stdout",
     "output_type": "stream",
     "text": [
      "y Là chữ cái phụ âm\n"
     ]
    }
   ],
   "source": [
    "#Bài 6\n",
    "\n",
    "na=['U','E','O','A','I']\n",
    "#pa=[B,C,D,F,G,H,J,K,L,M,N,P,Q,S,T,V,W,X,Y,Z]\n",
    "n=input(\"Nhập vào chữ cái :\")\n",
    "if n.upper() in na:\n",
    "    print(n,'Là chữ cái nguyên âm')\n",
    "else:\n",
    "    print(n,'Là chữ cái phụ âm')"
   ]
  },
  {
   "cell_type": "code",
   "execution_count": 21,
   "id": "940f2a25-8ac5-4529-8528-69439895aa4e",
   "metadata": {},
   "outputs": [
    {
     "name": "stdin",
     "output_type": "stream",
     "text": [
      "Nhập vào cân nặng : 60\n",
      "Nhập vào chiều cao : 1.75\n"
     ]
    },
    {
     "name": "stdout",
     "output_type": "stream",
     "text": [
      "Chỉ số BMI của bạn là :  19.59\n",
      "Cân nặng bình thường\n"
     ]
    }
   ],
   "source": [
    "#Bài 7\n",
    "\n",
    "cannang=float(input('Nhập vào cân nặng :'))\n",
    "chieucao=float(input('Nhập vào chiều cao :'))\n",
    "bmi=cannang/(chieucao**2)\n",
    "print('Chỉ số BMI của bạn là : ',round(bmi,2))\n",
    "if bmi>30 :\n",
    "    print(\"Bị béo phì\")\n",
    "elif 25<=bmi<=29.9 :\n",
    "    print('Bị thừa cân')\n",
    "elif 18.5<=bmi<=24.9:\n",
    "    print('Cân nặng bình thường')\n",
    "else:\n",
    "    print('Bị còi xương')"
   ]
  },
  {
   "cell_type": "code",
   "execution_count": 1,
   "id": "99319686-010c-4648-8af9-65cbf681b4ea",
   "metadata": {},
   "outputs": [
    {
     "name": "stdin",
     "output_type": "stream",
     "text": [
      "Nhập vào tháng sinh của bạn 4\n"
     ]
    },
    {
     "name": "stdout",
     "output_type": "stream",
     "text": [
      "Bạn sinh vào mùa hạ\n"
     ]
    }
   ],
   "source": [
    "#Bài 8\n",
    "\n",
    "ts=int(input('Nhập vào tháng sinh của bạn'))\n",
    "while (1>ts or ts>12):\n",
    "    print(\"Nhập lại tháng sinh\")\n",
    "    ts=int(input('Nhập vào tháng sinh của bạn'))\n",
    "if ts==1 or ts==2 or ts==3:\n",
    "    print('Bạn sinh vào mùa xuân')\n",
    "elif ts==4 or ts==5 or ts==6:\n",
    "    print('Bạn sinh vào mùa hạ')\n",
    "elif ts==7 or ts==8 or ts==9 :\n",
    "    print('Bạn sinh vào mùa thu')\n",
    "elif ts==10 or ts==11 or ts==12:\n",
    "    print('Bạn sinh vào mùa đông')\n",
    "#else:\n",
    "    #print('tháng sinh nhập không hợp lệ')"
   ]
  },
  {
   "cell_type": "code",
   "execution_count": 18,
   "id": "65dc4a01-95ec-4b7e-9b1e-72484e2e565a",
   "metadata": {},
   "outputs": [
    {
     "name": "stdin",
     "output_type": "stream",
     "text": [
      "Nhập vào số n :  0\n",
      "Nhập lại số n :   +1\n"
     ]
    },
    {
     "name": "stdout",
     "output_type": "stream",
     "text": [
      "Bảng cửu chương muốn nhập là :  1\n",
      "1*1=1\n",
      "1*2=2\n",
      "1*3=3\n",
      "1*4=4\n",
      "1*5=5\n",
      "1*6=6\n",
      "1*7=7\n",
      "1*8=8\n",
      "1*9=9\n"
     ]
    }
   ],
   "source": [
    "#Bài 9\n",
    "\n",
    "n=int(input(\"Nhập vào số n : \"))\n",
    "while (n<=0 or n>10):\n",
    "    n=int(input(\"Nhập lại số n :  \"))\n",
    "print(\"Bảng cửu chương muốn nhập là : \",n)\n",
    "for i in range(1,10,1):\n",
    "    print(\"{0}*{1}={2}\".format(n,i,n*i))\n",
    "        "
   ]
  },
  {
   "cell_type": "code",
   "execution_count": 60,
   "id": "fb88e026-0501-4401-8e8a-a38ae406a287",
   "metadata": {},
   "outputs": [
    {
     "name": "stdout",
     "output_type": "stream",
     "text": [
      "Danh sách điểm hệ 10 :  [8.4, 6.5, 7.3, 2.6, 9.0, 5.8, 6.0, 9.7, 8.1]\n",
      "Danh sách điểm hệ 4 :  ['B+', 'C+', 'B', 'F', 'A+', 'C', 'C', 'A+', 'B+']\n",
      "Tổng số môn học là :  9\n",
      "Điểm trung bình hệ 10 là :  7.04\n",
      "Điểm trung bình hệ 4 là :  2.72\n"
     ]
    }
   ],
   "source": [
    "#Bài 10\n",
    "\n",
    "dh10=[8.4,6.5,7.3,2.6,9.0,5.8,6.0,9.7,8.1]\n",
    "dh4=[]\n",
    "for diem in dh10:\n",
    "    if diem >=9.0:\n",
    "        dh4.append('A+')\n",
    "    elif 8.5<=diem<9:\n",
    "        dh4.append('A')\n",
    "    elif 8.0<=diem<8.5:\n",
    "        dh4.append('B+')\n",
    "    elif 7.0<=diem<8.0:\n",
    "        dh4.append('B')\n",
    "    elif 6.5<=diem<7.0:\n",
    "        dh4.append('C+')\n",
    "    elif 5.5<=diem<6.5:\n",
    "        dh4.append('C')\n",
    "    elif 5.0<=diem<5.5:\n",
    "        dh4.append('D+')\n",
    "    elif 4.0<=diem<5.0:\n",
    "        dh4.append('D')\n",
    "    else:\n",
    "        dh4.append('F')\n",
    "print('Danh sách điểm hệ 10 : ',dh10)\n",
    "print('Danh sách điểm hệ 4 : ',dh4)\n",
    "dh_4={\n",
    "    'A+':4.0,\n",
    "    'A' :3.7,\n",
    "    'B+':3.5,\n",
    "    'B':3.0,\n",
    "    'C+':2.5,\n",
    "    'C':2.0,\n",
    "    'D+':1.5,\n",
    "    'D':1.0,\n",
    "    'F':0.0\n",
    "}#Tạo ra 1 dictionary \n",
    "dh4=[dh_4[diem] for diem in dh4] #Chuyển dữ liệu từ dh_4 vào dh4\n",
    "print('Tổng số môn học là : ' ,len(dh10))\n",
    "print('Điểm trung bình hệ 10 là : ',round(sum(dh10)/len(dh10),2))\n",
    "print('Điểm trung bình hệ 4 là : ',round(sum(dh4)/len(dh4),2))"
   ]
  },
  {
   "cell_type": "code",
   "execution_count": 142,
   "id": "26bce116-bebd-4bd4-a453-e6145ac06d84",
   "metadata": {},
   "outputs": [
    {
     "name": "stdin",
     "output_type": "stream",
     "text": [
      "Nhập vào số nguyên dương n: 113\n"
     ]
    },
    {
     "name": "stdout",
     "output_type": "stream",
     "text": [
      "0\n",
      "113 là số nguyên tố\n"
     ]
    }
   ],
   "source": [
    "#Bài 11\n",
    "\n",
    "n=int(input('Nhập vào số nguyên dương n:'))\n",
    "while (n<=0):\n",
    "    n=int(input('Nhập lại số nguyên dương n:'))\n",
    "dem=0\n",
    "for i in range(2,int(n/2)+1,1):\n",
    "    if n%i==0 :\n",
    "        dem+=1\n",
    "print(dem)\n",
    "if dem<1 :\n",
    "    print(n,'là số nguyên tố')\n",
    "elif n==1 :\n",
    "    print(n,\"là số nguyên tố\")\n",
    "else:    \n",
    "    print(n,'không là số nguyên tố')"
   ]
  },
  {
   "cell_type": "code",
   "execution_count": 177,
   "id": "c69023c1-3cfd-41a8-ace0-ce161e51e57c",
   "metadata": {},
   "outputs": [
    {
     "name": "stdin",
     "output_type": "stream",
     "text": [
      "Nhập vào start :  240\n",
      "Nhập vào finish :  251\n"
     ]
    },
    {
     "name": "stdout",
     "output_type": "stream",
     "text": [
      "Các số nguyên tố từ 240 đến 251 là:\n",
      "[241, 251]\n",
      "Có tổng cộng các số nguyên tố là :  2\n"
     ]
    }
   ],
   "source": [
    "#Bài 12\n",
    "\n",
    "m=int(input('Nhập vào start : '))\n",
    "n=int(input('Nhập vào finish : '))\n",
    "while n<=1:\n",
    "    n=int(input('Nhập lại n phần tử : '))\n",
    "print('Các số nguyên tố từ {0} đến {1} là:'.format(m,n))\n",
    "a=[]\n",
    "for i in range(m,n+1):\n",
    "    kt=True\n",
    "    for j in range(2,int(i/2)+1):\n",
    "        if i%j==0:\n",
    "            kt=False\n",
    "            break\n",
    "    if kt==True:\n",
    "        a.append(i)\n",
    "print(a)\n",
    "print('Có tổng cộng các số nguyên tố là : ',len(a))"
   ]
  },
  {
   "cell_type": "code",
   "execution_count": 1,
   "id": "8c731ab6-e12b-4328-ab37-1ab13b034e1b",
   "metadata": {},
   "outputs": [
    {
     "name": "stdin",
     "output_type": "stream",
     "text": [
      "Nhap vao so nguyen a>0 = 10\n"
     ]
    },
    {
     "name": "stdout",
     "output_type": "stream",
     "text": [
      "a%2 =  0\n",
      "a =  5\n",
      "a%2 =  1\n",
      "a =  2\n",
      "a%2 =  0\n",
      "a =  1\n",
      "a%2 =  1\n",
      "a =  0\n",
      "Ket qua =  1010\n"
     ]
    }
   ],
   "source": [
    "#Bài 13\n",
    "\n",
    "a = -1\n",
    "while a<=0 :\n",
    "    a = int(input('Nhap vao so nguyen a>0 ='))\n",
    "\n",
    "ketQua = ''\n",
    "while (a>0) :\n",
    "    print(\"a%2 = \",a%2 )\n",
    "    ketQua = str(a%2)+ketQua\n",
    "    a = a//2\n",
    "    print(\"a = \",a)\n",
    "\n",
    "print('Ket qua = ',ketQua)\n"
   ]
  },
  {
   "cell_type": "code",
   "execution_count": null,
   "id": "0c223660-9146-4bbe-9096-65d611fe545f",
   "metadata": {},
   "outputs": [],
   "source": []
  }
 ],
 "metadata": {
  "kernelspec": {
   "display_name": "Python [conda env:base] *",
   "language": "python",
   "name": "conda-base-py"
  },
  "language_info": {
   "codemirror_mode": {
    "name": "ipython",
    "version": 3
   },
   "file_extension": ".py",
   "mimetype": "text/x-python",
   "name": "python",
   "nbconvert_exporter": "python",
   "pygments_lexer": "ipython3",
   "version": "3.13.5"
  }
 },
 "nbformat": 4,
 "nbformat_minor": 5
}
