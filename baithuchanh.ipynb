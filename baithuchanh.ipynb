{
 "cells": [
  {
   "cell_type": "code",
   "execution_count": null,
   "id": "27e2c6de-b9ca-4b24-8654-0f17a694a04d",
   "metadata": {},
   "outputs": [],
   "source": [
    "#Bai 1\n",
    "\n",
    "n=int(input('Nhap vao so keo cua co:'))\n",
    "m=int(input('Nhap vao so hoc sinh trong lop :'))\n",
    "print('Moi hoc sinh nhan duoc so keo la :',n//m)\n",
    "print('Co con lai so keo la : ',n%m)"
   ]
  },
  {
   "cell_type": "code",
   "execution_count": 44,
   "id": "8d83a7f2-df13-46c2-85a2-14c90455b6e8",
   "metadata": {},
   "outputs": [
    {
     "name": "stdin",
     "output_type": "stream",
     "text": [
      "Nhập vào họ và tên : Đỗ Quang Huy\n",
      "Nhập vào nsinh : 2005\n",
      "Nhập vào năm nay : 2025\n"
     ]
    },
    {
     "name": "stdout",
     "output_type": "stream",
     "text": [
      "Số tuổi của Đỗ Quang Huy là 2025-2005:  20 tuổi\n"
     ]
    }
   ],
   "source": [
    "#Bai 2\n",
    "\n",
    "hvt = input('Nhập vào họ và tên :')\n",
    "nsinh = int(input('Nhập vào nsinh :'))\n",
    "nam_hien_tai = int(input('Nhập vào năm nay :'))\n",
    "print('Số tuổi của {0} là {1}-{2}: '.format(hvt,nam_hien_tai,nsinh),nam_hien_tai-nsinh,'tuổi')\n"
   ]
  },
  {
   "cell_type": "code",
   "execution_count": 46,
   "id": "a2bb6489-362a-4b68-ac90-73a132bdb8e8",
   "metadata": {},
   "outputs": [
    {
     "name": "stdin",
     "output_type": "stream",
     "text": [
      "Nhập vào số tháng :  3\n"
     ]
    },
    {
     "name": "stdout",
     "output_type": "stream",
     "text": [
      "Số thỏ trong rừng sau  3 tháng là :  16\n"
     ]
    }
   ],
   "source": [
    "##Bai 3\n",
    "\n",
    "thang = int(input('Nhập vào số tháng : '))\n",
    "print('Số thỏ trong rừng sau ',thang,'tháng là : ',2*(2**thang))"
   ]
  },
  {
   "cell_type": "code",
   "execution_count": 47,
   "id": "f32d2b3b-14b0-4eff-9ffc-55d7c2f780f5",
   "metadata": {},
   "outputs": [
    {
     "name": "stdout",
     "output_type": "stream",
     "text": [
      "Số ký tự trong đoạn văn bản trên là :  138\n",
      "Có  hồ chí minh trong bài không  True\n",
      "Có  non sông trong bài không  False\n",
      "['Nước Việt Nam là một,dân tộc Việt Nam là một', 'Sông có thể cạn núi có thể mòn,song chân lý ấy không bao giờ thay đổi', '(HỒ CHÍ MINH,1890-1969)']\n",
      "Có kí tự nào khác số và chữ không  False\n",
      "Nước VIỆT NAM là một,dân tộc VIỆT NAM là một.Sông có thể cạn núi có thể mòn,song chân lý ấy không bao giờ thay đổi.(HỒ CHÍ MINH,1890-1969)\n"
     ]
    }
   ],
   "source": [
    "#Bai 4.1\n",
    "\n",
    "a='Nước Việt Nam là một,dân tộc Việt Nam là một.Sông có thể cạn núi có thể mòn,song chân lý ấy không bao giờ thay đổi.(HỒ CHÍ MINH,1890-1969)'\n",
    "print('Số ký tự trong đoạn văn bản trên là : ',len(a))\n",
    "b='hồ chí minh'\n",
    "c='non sông'\n",
    "print('Có ' ,b, 'trong bài không ',b.lower() in a.lower())\n",
    "print('Có ' ,c, 'trong bài không ',c.lower() in a.lower())\n",
    "print(a.split('.'))\n",
    "print('Có kí tự nào khác số và chữ không ',a.isalnum())\n",
    "print(a.replace('Việt Nam' , 'VIỆT NAM'))"
   ]
  },
  {
   "cell_type": "code",
   "execution_count": 41,
   "id": "20e9b9de-245c-436f-ace6-ea81a3b1c875",
   "metadata": {},
   "outputs": [
    {
     "name": "stdout",
     "output_type": "stream",
     "text": [
      "Python For Machine Learning.\n",
      "PYTHON-FOR-MACHINE-LEARNING\n"
     ]
    }
   ],
   "source": [
    "#Bai4.2\n",
    "\n",
    "s=' python FOR Machine LearNINg  '\n",
    "s1 =s.strip().lower().title() + '.'\n",
    "print(s1)\n",
    "s2=s.strip().upper().replace(' ' , '-')\n",
    "print(s2)"
   ]
  },
  {
   "cell_type": "code",
   "execution_count": 71,
   "id": "c2808f63-8ff9-4b82-bf82-d1d88d06e502",
   "metadata": {},
   "outputs": [
    {
     "name": "stdout",
     "output_type": "stream",
     "text": [
      "Danh sách điểm ban đầu :  ['B', 'D', 'A', 'F', 'A', 'B', 'F', 'B', 'B', 'C', 'A', 'D', 'F']\n",
      "<class 'list'>\n",
      "Số sinh viên trong lớp là :  15\n",
      "Số sinh viên cần học lại là :  3\n",
      "Số sinh viên có điểm B trở lên là :  8\n",
      "Danh sách đã thay đổi :  ['B', 'D', 'A', 'F', 'A', 'B', 'F', 'B', 'B', 'C', 'A', 'D', 'F']\n"
     ]
    }
   ],
   "source": [
    "#Bai 5\n",
    "\n",
    "print('Danh sách điểm ban đầu : ',diemthi)\n",
    "diemthi=['C','B','D','A','F','A','B','F','B','B','C','A','D','F','B']\n",
    "print(type(diemthi))\n",
    "print('Số sinh viên trong lớp là : ',len(diemthi))\n",
    "print('Số sinh viên cần học lại là : ',diemthi.count('F')) \n",
    "print('Số sinh viên có điểm B trở lên là : ' ,diemthi.count('B') + diemthi.count('A'))\n",
    "diemthi.pop()\n",
    "diemthi.pop(0)\n",
    "print('Danh sách đã thay đổi : ' ,diemthi)"
   ]
  },
  {
   "cell_type": "code",
   "execution_count": null,
   "id": "e595f93a-4525-4578-9d44-86846925d90c",
   "metadata": {},
   "outputs": [],
   "source": []
  }
 ],
 "metadata": {
  "kernelspec": {
   "display_name": "Python [conda env:base] *",
   "language": "python",
   "name": "conda-base-py"
  },
  "language_info": {
   "codemirror_mode": {
    "name": "ipython",
    "version": 3
   },
   "file_extension": ".py",
   "mimetype": "text/x-python",
   "name": "python",
   "nbconvert_exporter": "python",
   "pygments_lexer": "ipython3",
   "version": "3.13.5"
  }
 },
 "nbformat": 4,
 "nbformat_minor": 5
}
